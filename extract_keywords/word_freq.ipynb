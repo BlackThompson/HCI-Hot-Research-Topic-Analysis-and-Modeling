{
 "cells": [
  {
   "cell_type": "code",
   "execution_count": 279,
   "metadata": {
    "collapsed": true
   },
   "outputs": [],
   "source": [
    "path = r'./input/CHI_process_2023.csv'\n",
    "\n",
    "import pandas as pd\n",
    "\n",
    "\n",
    "def count_freq(str_list):\n",
    "    # 2. 统一将字符串转换为小写，使用字典来统计词频\n",
    "    word_freq = {}\n",
    "    for word in str_list:\n",
    "        word = word.lower()  # 统一转换为小写\n",
    "        word_freq[word] = word_freq.get(word, 0) + 1\n",
    "\n",
    "    # 3. 将字典按照词频从高到低排序\n",
    "    sorted_word_freq = sorted(word_freq.items(), key=lambda x: x[1], reverse=True)\n",
    "\n",
    "    # 4. 将排序后的结果存储在DataFrame中\n",
    "    df = pd.DataFrame(sorted_word_freq, columns=['Word', 'Frequency'])\n",
    "\n",
    "    return df\n",
    "\n",
    "\n",
    "def split_words_with_spaces(input_list):\n",
    "    result_list = []\n",
    "    for item in input_list:\n",
    "        words = item.split()  # 使用split()方法按空格拆分单词\n",
    "        result_list.extend(words)  # 将拆分后的单词添加到结果列表中\n",
    "    return result_list"
   ]
  },
  {
   "cell_type": "code",
   "execution_count": 280,
   "outputs": [],
   "source": [
    "import ast\n",
    "\n",
    "\n",
    "# out_path = r'./output/keywords_2023_spilt.xlsx'\n",
    "# output_path = r'./output/CHI_process_2016.csv'\n",
    "\n",
    "file_2016 = pd.read_csv(path)\n",
    "keywords_list_2016 = []\n",
    "keywords_list_2016_spilt = []\n",
    "for i in range(len(file_2016)):\n",
    "    temp = file_2016.loc[i, 'keywords']\n",
    "    if pd.isna(temp):\n",
    "        continue\n",
    "    try:\n",
    "        original_list = ast.literal_eval(temp)\n",
    "        keywords_list_2016 += original_list\n",
    "        keywords_list_2016_spilt += split_words_with_spaces(original_list)\n",
    "    except:\n",
    "        print('Error')\n",
    "\n"
   ],
   "metadata": {
    "collapsed": false,
    "pycharm": {
     "name": "#%%\n"
    }
   }
  },
  {
   "cell_type": "code",
   "execution_count": 281,
   "outputs": [
    {
     "data": {
      "text/plain": "                                         Word  Frequency\n0                  human-computer interaction         93\n1                             virtual reality         46\n2                                  user study         27\n3                             user experience         22\n4                     artificial intelligence         20\n...                                       ...        ...\n3933  ai-supported decision-making interfaces          1\n3934            ethical and privacy standards          1\n3935                         food preparation          1\n3936                     precision techniques          1\n3937                       cultural knowledge          1\n\n[3938 rows x 2 columns]",
      "text/html": "<div>\n<style scoped>\n    .dataframe tbody tr th:only-of-type {\n        vertical-align: middle;\n    }\n\n    .dataframe tbody tr th {\n        vertical-align: top;\n    }\n\n    .dataframe thead th {\n        text-align: right;\n    }\n</style>\n<table border=\"1\" class=\"dataframe\">\n  <thead>\n    <tr style=\"text-align: right;\">\n      <th></th>\n      <th>Word</th>\n      <th>Frequency</th>\n    </tr>\n  </thead>\n  <tbody>\n    <tr>\n      <th>0</th>\n      <td>human-computer interaction</td>\n      <td>93</td>\n    </tr>\n    <tr>\n      <th>1</th>\n      <td>virtual reality</td>\n      <td>46</td>\n    </tr>\n    <tr>\n      <th>2</th>\n      <td>user study</td>\n      <td>27</td>\n    </tr>\n    <tr>\n      <th>3</th>\n      <td>user experience</td>\n      <td>22</td>\n    </tr>\n    <tr>\n      <th>4</th>\n      <td>artificial intelligence</td>\n      <td>20</td>\n    </tr>\n    <tr>\n      <th>...</th>\n      <td>...</td>\n      <td>...</td>\n    </tr>\n    <tr>\n      <th>3933</th>\n      <td>ai-supported decision-making interfaces</td>\n      <td>1</td>\n    </tr>\n    <tr>\n      <th>3934</th>\n      <td>ethical and privacy standards</td>\n      <td>1</td>\n    </tr>\n    <tr>\n      <th>3935</th>\n      <td>food preparation</td>\n      <td>1</td>\n    </tr>\n    <tr>\n      <th>3936</th>\n      <td>precision techniques</td>\n      <td>1</td>\n    </tr>\n    <tr>\n      <th>3937</th>\n      <td>cultural knowledge</td>\n      <td>1</td>\n    </tr>\n  </tbody>\n</table>\n<p>3938 rows × 2 columns</p>\n</div>"
     },
     "execution_count": 281,
     "metadata": {},
     "output_type": "execute_result"
    }
   ],
   "source": [
    "keywords_2016 = count_freq(keywords_list_2016)\n",
    "keywords_2016"
   ],
   "metadata": {
    "collapsed": false,
    "pycharm": {
     "name": "#%%\n"
    }
   }
  },
  {
   "cell_type": "code",
   "execution_count": 282,
   "outputs": [
    {
     "data": {
      "text/plain": "              Word  Frequency\n0           design        198\n1      interaction        187\n2             user        123\n3          reality        104\n4             data        100\n...            ...        ...\n3146  self-control          1\n3147      affinity          1\n3148   diagramming          1\n3149     caretaker          1\n3150  ai-supported          1\n\n[3151 rows x 2 columns]",
      "text/html": "<div>\n<style scoped>\n    .dataframe tbody tr th:only-of-type {\n        vertical-align: middle;\n    }\n\n    .dataframe tbody tr th {\n        vertical-align: top;\n    }\n\n    .dataframe thead th {\n        text-align: right;\n    }\n</style>\n<table border=\"1\" class=\"dataframe\">\n  <thead>\n    <tr style=\"text-align: right;\">\n      <th></th>\n      <th>Word</th>\n      <th>Frequency</th>\n    </tr>\n  </thead>\n  <tbody>\n    <tr>\n      <th>0</th>\n      <td>design</td>\n      <td>198</td>\n    </tr>\n    <tr>\n      <th>1</th>\n      <td>interaction</td>\n      <td>187</td>\n    </tr>\n    <tr>\n      <th>2</th>\n      <td>user</td>\n      <td>123</td>\n    </tr>\n    <tr>\n      <th>3</th>\n      <td>reality</td>\n      <td>104</td>\n    </tr>\n    <tr>\n      <th>4</th>\n      <td>data</td>\n      <td>100</td>\n    </tr>\n    <tr>\n      <th>...</th>\n      <td>...</td>\n      <td>...</td>\n    </tr>\n    <tr>\n      <th>3146</th>\n      <td>self-control</td>\n      <td>1</td>\n    </tr>\n    <tr>\n      <th>3147</th>\n      <td>affinity</td>\n      <td>1</td>\n    </tr>\n    <tr>\n      <th>3148</th>\n      <td>diagramming</td>\n      <td>1</td>\n    </tr>\n    <tr>\n      <th>3149</th>\n      <td>caretaker</td>\n      <td>1</td>\n    </tr>\n    <tr>\n      <th>3150</th>\n      <td>ai-supported</td>\n      <td>1</td>\n    </tr>\n  </tbody>\n</table>\n<p>3151 rows × 2 columns</p>\n</div>"
     },
     "execution_count": 282,
     "metadata": {},
     "output_type": "execute_result"
    }
   ],
   "source": [
    "keywords_2016_spilt = count_freq(keywords_list_2016_spilt)\n",
    "keywords_2016_spilt"
   ],
   "metadata": {
    "collapsed": false,
    "pycharm": {
     "name": "#%%\n"
    }
   }
  },
  {
   "cell_type": "code",
   "execution_count": 283,
   "outputs": [],
   "source": [
    "# keywords_2016_spilt.to_excel(out_path, index=False)"
   ],
   "metadata": {
    "collapsed": false,
    "pycharm": {
     "name": "#%%\n"
    }
   }
  },
  {
   "cell_type": "code",
   "execution_count": 284,
   "outputs": [
    {
     "name": "stdout",
     "output_type": "stream",
     "text": [
      "225\n"
     ]
    },
    {
     "data": {
      "text/plain": "                              Word  Frequency\n0                           design        198\n119                      co-design         14\n422                      designers          5\n488                      designing          4\n1015       research-through-design          2\n1497                       designs          1\n2772  technology-and-policy-design          1",
      "text/html": "<div>\n<style scoped>\n    .dataframe tbody tr th:only-of-type {\n        vertical-align: middle;\n    }\n\n    .dataframe tbody tr th {\n        vertical-align: top;\n    }\n\n    .dataframe thead th {\n        text-align: right;\n    }\n</style>\n<table border=\"1\" class=\"dataframe\">\n  <thead>\n    <tr style=\"text-align: right;\">\n      <th></th>\n      <th>Word</th>\n      <th>Frequency</th>\n    </tr>\n  </thead>\n  <tbody>\n    <tr>\n      <th>0</th>\n      <td>design</td>\n      <td>198</td>\n    </tr>\n    <tr>\n      <th>119</th>\n      <td>co-design</td>\n      <td>14</td>\n    </tr>\n    <tr>\n      <th>422</th>\n      <td>designers</td>\n      <td>5</td>\n    </tr>\n    <tr>\n      <th>488</th>\n      <td>designing</td>\n      <td>4</td>\n    </tr>\n    <tr>\n      <th>1015</th>\n      <td>research-through-design</td>\n      <td>2</td>\n    </tr>\n    <tr>\n      <th>1497</th>\n      <td>designs</td>\n      <td>1</td>\n    </tr>\n    <tr>\n      <th>2772</th>\n      <td>technology-and-policy-design</td>\n      <td>1</td>\n    </tr>\n  </tbody>\n</table>\n</div>"
     },
     "execution_count": 284,
     "metadata": {},
     "output_type": "execute_result"
    }
   ],
   "source": [
    "a = keywords_2016_spilt[keywords_2016_spilt['Word'].str.contains('design')]\n",
    "print(a['Frequency'].sum())\n",
    "a"
   ],
   "metadata": {
    "collapsed": false,
    "pycharm": {
     "name": "#%%\n"
    }
   }
  },
  {
   "cell_type": "code",
   "execution_count": 285,
   "outputs": [
    {
     "name": "stdout",
     "output_type": "stream",
     "text": [
      "162\n"
     ]
    },
    {
     "data": {
      "text/plain": "                   Word  Frequency\n2                  user        123\n116               users         14\n346       user-centered          6\n539            end-user          3\n687         user-driven          3\n760           end-users          2\n1183       user-centred          2\n1308     user-annotated          1\n1350       user-engaged          1\n1754          multiuser          1\n2050         user-drawn          1\n2065     user-perceived          1\n2306             users’          1\n2314  user-configurable          1\n2404     user-observing          1\n2984     user-generated          1",
      "text/html": "<div>\n<style scoped>\n    .dataframe tbody tr th:only-of-type {\n        vertical-align: middle;\n    }\n\n    .dataframe tbody tr th {\n        vertical-align: top;\n    }\n\n    .dataframe thead th {\n        text-align: right;\n    }\n</style>\n<table border=\"1\" class=\"dataframe\">\n  <thead>\n    <tr style=\"text-align: right;\">\n      <th></th>\n      <th>Word</th>\n      <th>Frequency</th>\n    </tr>\n  </thead>\n  <tbody>\n    <tr>\n      <th>2</th>\n      <td>user</td>\n      <td>123</td>\n    </tr>\n    <tr>\n      <th>116</th>\n      <td>users</td>\n      <td>14</td>\n    </tr>\n    <tr>\n      <th>346</th>\n      <td>user-centered</td>\n      <td>6</td>\n    </tr>\n    <tr>\n      <th>539</th>\n      <td>end-user</td>\n      <td>3</td>\n    </tr>\n    <tr>\n      <th>687</th>\n      <td>user-driven</td>\n      <td>3</td>\n    </tr>\n    <tr>\n      <th>760</th>\n      <td>end-users</td>\n      <td>2</td>\n    </tr>\n    <tr>\n      <th>1183</th>\n      <td>user-centred</td>\n      <td>2</td>\n    </tr>\n    <tr>\n      <th>1308</th>\n      <td>user-annotated</td>\n      <td>1</td>\n    </tr>\n    <tr>\n      <th>1350</th>\n      <td>user-engaged</td>\n      <td>1</td>\n    </tr>\n    <tr>\n      <th>1754</th>\n      <td>multiuser</td>\n      <td>1</td>\n    </tr>\n    <tr>\n      <th>2050</th>\n      <td>user-drawn</td>\n      <td>1</td>\n    </tr>\n    <tr>\n      <th>2065</th>\n      <td>user-perceived</td>\n      <td>1</td>\n    </tr>\n    <tr>\n      <th>2306</th>\n      <td>users’</td>\n      <td>1</td>\n    </tr>\n    <tr>\n      <th>2314</th>\n      <td>user-configurable</td>\n      <td>1</td>\n    </tr>\n    <tr>\n      <th>2404</th>\n      <td>user-observing</td>\n      <td>1</td>\n    </tr>\n    <tr>\n      <th>2984</th>\n      <td>user-generated</td>\n      <td>1</td>\n    </tr>\n  </tbody>\n</table>\n</div>"
     },
     "execution_count": 285,
     "metadata": {},
     "output_type": "execute_result"
    }
   ],
   "source": [
    "a = keywords_2016_spilt[keywords_2016_spilt['Word'].str.contains('user')]\n",
    "print(a['Frequency'].sum())\n",
    "a"
   ],
   "metadata": {
    "collapsed": false,
    "pycharm": {
     "name": "#%%\n"
    }
   }
  },
  {
   "cell_type": "code",
   "execution_count": 286,
   "outputs": [
    {
     "name": "stdout",
     "output_type": "stream",
     "text": [
      "108\n"
     ]
    },
    {
     "data": {
      "text/plain": "               Word  Frequency\n3           reality        104\n619   mixed-reality          3\n2607  cross-reality          1",
      "text/html": "<div>\n<style scoped>\n    .dataframe tbody tr th:only-of-type {\n        vertical-align: middle;\n    }\n\n    .dataframe tbody tr th {\n        vertical-align: top;\n    }\n\n    .dataframe thead th {\n        text-align: right;\n    }\n</style>\n<table border=\"1\" class=\"dataframe\">\n  <thead>\n    <tr style=\"text-align: right;\">\n      <th></th>\n      <th>Word</th>\n      <th>Frequency</th>\n    </tr>\n  </thead>\n  <tbody>\n    <tr>\n      <th>3</th>\n      <td>reality</td>\n      <td>104</td>\n    </tr>\n    <tr>\n      <th>619</th>\n      <td>mixed-reality</td>\n      <td>3</td>\n    </tr>\n    <tr>\n      <th>2607</th>\n      <td>cross-reality</td>\n      <td>1</td>\n    </tr>\n  </tbody>\n</table>\n</div>"
     },
     "execution_count": 286,
     "metadata": {},
     "output_type": "execute_result"
    }
   ],
   "source": [
    "a = keywords_2016_spilt[keywords_2016_spilt['Word'].str.contains('reality')]\n",
    "print(a['Frequency'].sum())\n",
    "a"
   ],
   "metadata": {
    "collapsed": false,
    "pycharm": {
     "name": "#%%\n"
    }
   }
  },
  {
   "cell_type": "code",
   "execution_count": 287,
   "outputs": [
    {
     "name": "stdout",
     "output_type": "stream",
     "text": [
      "143\n"
     ]
    },
    {
     "data": {
      "text/plain": "                       Word  Frequency\n4                      data        100\n58            computational         23\n660                metadata          3\n678             data-driven          3\n830                datasets          2\n930                 dataset          2\n1064            computation          2\n1465           datafication          1\n1603        data-generating          1\n1991  data-physicalizations          1\n2551               bio-data          1\n2580    caring-through-data          1\n2695          data-oriented          1\n2995               database          1\n3035            data-fusion          1",
      "text/html": "<div>\n<style scoped>\n    .dataframe tbody tr th:only-of-type {\n        vertical-align: middle;\n    }\n\n    .dataframe tbody tr th {\n        vertical-align: top;\n    }\n\n    .dataframe thead th {\n        text-align: right;\n    }\n</style>\n<table border=\"1\" class=\"dataframe\">\n  <thead>\n    <tr style=\"text-align: right;\">\n      <th></th>\n      <th>Word</th>\n      <th>Frequency</th>\n    </tr>\n  </thead>\n  <tbody>\n    <tr>\n      <th>4</th>\n      <td>data</td>\n      <td>100</td>\n    </tr>\n    <tr>\n      <th>58</th>\n      <td>computational</td>\n      <td>23</td>\n    </tr>\n    <tr>\n      <th>660</th>\n      <td>metadata</td>\n      <td>3</td>\n    </tr>\n    <tr>\n      <th>678</th>\n      <td>data-driven</td>\n      <td>3</td>\n    </tr>\n    <tr>\n      <th>830</th>\n      <td>datasets</td>\n      <td>2</td>\n    </tr>\n    <tr>\n      <th>930</th>\n      <td>dataset</td>\n      <td>2</td>\n    </tr>\n    <tr>\n      <th>1064</th>\n      <td>computation</td>\n      <td>2</td>\n    </tr>\n    <tr>\n      <th>1465</th>\n      <td>datafication</td>\n      <td>1</td>\n    </tr>\n    <tr>\n      <th>1603</th>\n      <td>data-generating</td>\n      <td>1</td>\n    </tr>\n    <tr>\n      <th>1991</th>\n      <td>data-physicalizations</td>\n      <td>1</td>\n    </tr>\n    <tr>\n      <th>2551</th>\n      <td>bio-data</td>\n      <td>1</td>\n    </tr>\n    <tr>\n      <th>2580</th>\n      <td>caring-through-data</td>\n      <td>1</td>\n    </tr>\n    <tr>\n      <th>2695</th>\n      <td>data-oriented</td>\n      <td>1</td>\n    </tr>\n    <tr>\n      <th>2995</th>\n      <td>database</td>\n      <td>1</td>\n    </tr>\n    <tr>\n      <th>3035</th>\n      <td>data-fusion</td>\n      <td>1</td>\n    </tr>\n  </tbody>\n</table>\n</div>"
     },
     "execution_count": 287,
     "metadata": {},
     "output_type": "execute_result"
    }
   ],
   "source": [
    "a = keywords_2016_spilt[keywords_2016_spilt['Word'].str.contains('data|computation')]\n",
    "print(a['Frequency'].sum())\n",
    "a"
   ],
   "metadata": {
    "collapsed": false,
    "pycharm": {
     "name": "#%%\n"
    }
   }
  },
  {
   "cell_type": "code",
   "execution_count": 288,
   "outputs": [
    {
     "name": "stdout",
     "output_type": "stream",
     "text": [
      "93\n"
     ]
    },
    {
     "data": {
      "text/plain": "                  Word  Frequency\n6               social         86\n907          prosocial          2\n1930      social-media          1\n1971      psychosocial          1\n2531  social-emotional          1\n2738         sociality          1\n3054        parasocial          1",
      "text/html": "<div>\n<style scoped>\n    .dataframe tbody tr th:only-of-type {\n        vertical-align: middle;\n    }\n\n    .dataframe tbody tr th {\n        vertical-align: top;\n    }\n\n    .dataframe thead th {\n        text-align: right;\n    }\n</style>\n<table border=\"1\" class=\"dataframe\">\n  <thead>\n    <tr style=\"text-align: right;\">\n      <th></th>\n      <th>Word</th>\n      <th>Frequency</th>\n    </tr>\n  </thead>\n  <tbody>\n    <tr>\n      <th>6</th>\n      <td>social</td>\n      <td>86</td>\n    </tr>\n    <tr>\n      <th>907</th>\n      <td>prosocial</td>\n      <td>2</td>\n    </tr>\n    <tr>\n      <th>1930</th>\n      <td>social-media</td>\n      <td>1</td>\n    </tr>\n    <tr>\n      <th>1971</th>\n      <td>psychosocial</td>\n      <td>1</td>\n    </tr>\n    <tr>\n      <th>2531</th>\n      <td>social-emotional</td>\n      <td>1</td>\n    </tr>\n    <tr>\n      <th>2738</th>\n      <td>sociality</td>\n      <td>1</td>\n    </tr>\n    <tr>\n      <th>3054</th>\n      <td>parasocial</td>\n      <td>1</td>\n    </tr>\n  </tbody>\n</table>\n</div>"
     },
     "execution_count": 288,
     "metadata": {},
     "output_type": "execute_result"
    }
   ],
   "source": [
    "a = keywords_2016_spilt[keywords_2016_spilt['Word'].str.contains('social')]\n",
    "print(a['Frequency'].sum())\n",
    "a"
   ],
   "metadata": {
    "collapsed": false,
    "pycharm": {
     "name": "#%%\n"
    }
   }
  },
  {
   "cell_type": "code",
   "execution_count": 289,
   "outputs": [
    {
     "name": "stdout",
     "output_type": "stream",
     "text": [
      "170\n"
     ]
    },
    {
     "data": {
      "text/plain": "                              Word  Frequency\n10                      technology         62\n26                    technologies         36\n80                      techniques         18\n144                     multimodal         11\n347                      technique          6\n367                 sociotechnical          5\n448                      technical          4\n467                  technological          4\n725                socio-technical          3\n866                           tech          2\n1169                   cross-modal          2\n1179                      modality          2\n1181                    modalities          2\n1703               technologically          1\n1752           technology-mediated          1\n1813                 multimodality          1\n1972            thanato-technology          1\n2072        technology-facilitated          1\n2073          technology-connected          1\n2113              technology-based          1\n2207            technology-enabled          1\n2358               technology-rich          1\n2641                    crossmodal          1\n2772  technology-and-policy-design          1\n2777                  technocratic          1\n2806                non-tech-savvy          1",
      "text/html": "<div>\n<style scoped>\n    .dataframe tbody tr th:only-of-type {\n        vertical-align: middle;\n    }\n\n    .dataframe tbody tr th {\n        vertical-align: top;\n    }\n\n    .dataframe thead th {\n        text-align: right;\n    }\n</style>\n<table border=\"1\" class=\"dataframe\">\n  <thead>\n    <tr style=\"text-align: right;\">\n      <th></th>\n      <th>Word</th>\n      <th>Frequency</th>\n    </tr>\n  </thead>\n  <tbody>\n    <tr>\n      <th>10</th>\n      <td>technology</td>\n      <td>62</td>\n    </tr>\n    <tr>\n      <th>26</th>\n      <td>technologies</td>\n      <td>36</td>\n    </tr>\n    <tr>\n      <th>80</th>\n      <td>techniques</td>\n      <td>18</td>\n    </tr>\n    <tr>\n      <th>144</th>\n      <td>multimodal</td>\n      <td>11</td>\n    </tr>\n    <tr>\n      <th>347</th>\n      <td>technique</td>\n      <td>6</td>\n    </tr>\n    <tr>\n      <th>367</th>\n      <td>sociotechnical</td>\n      <td>5</td>\n    </tr>\n    <tr>\n      <th>448</th>\n      <td>technical</td>\n      <td>4</td>\n    </tr>\n    <tr>\n      <th>467</th>\n      <td>technological</td>\n      <td>4</td>\n    </tr>\n    <tr>\n      <th>725</th>\n      <td>socio-technical</td>\n      <td>3</td>\n    </tr>\n    <tr>\n      <th>866</th>\n      <td>tech</td>\n      <td>2</td>\n    </tr>\n    <tr>\n      <th>1169</th>\n      <td>cross-modal</td>\n      <td>2</td>\n    </tr>\n    <tr>\n      <th>1179</th>\n      <td>modality</td>\n      <td>2</td>\n    </tr>\n    <tr>\n      <th>1181</th>\n      <td>modalities</td>\n      <td>2</td>\n    </tr>\n    <tr>\n      <th>1703</th>\n      <td>technologically</td>\n      <td>1</td>\n    </tr>\n    <tr>\n      <th>1752</th>\n      <td>technology-mediated</td>\n      <td>1</td>\n    </tr>\n    <tr>\n      <th>1813</th>\n      <td>multimodality</td>\n      <td>1</td>\n    </tr>\n    <tr>\n      <th>1972</th>\n      <td>thanato-technology</td>\n      <td>1</td>\n    </tr>\n    <tr>\n      <th>2072</th>\n      <td>technology-facilitated</td>\n      <td>1</td>\n    </tr>\n    <tr>\n      <th>2073</th>\n      <td>technology-connected</td>\n      <td>1</td>\n    </tr>\n    <tr>\n      <th>2113</th>\n      <td>technology-based</td>\n      <td>1</td>\n    </tr>\n    <tr>\n      <th>2207</th>\n      <td>technology-enabled</td>\n      <td>1</td>\n    </tr>\n    <tr>\n      <th>2358</th>\n      <td>technology-rich</td>\n      <td>1</td>\n    </tr>\n    <tr>\n      <th>2641</th>\n      <td>crossmodal</td>\n      <td>1</td>\n    </tr>\n    <tr>\n      <th>2772</th>\n      <td>technology-and-policy-design</td>\n      <td>1</td>\n    </tr>\n    <tr>\n      <th>2777</th>\n      <td>technocratic</td>\n      <td>1</td>\n    </tr>\n    <tr>\n      <th>2806</th>\n      <td>non-tech-savvy</td>\n      <td>1</td>\n    </tr>\n  </tbody>\n</table>\n</div>"
     },
     "execution_count": 289,
     "metadata": {},
     "output_type": "execute_result"
    }
   ],
   "source": [
    "a = keywords_2016_spilt[keywords_2016_spilt['Word'].str.contains('tech|modal')]\n",
    "print(a['Frequency'].sum())\n",
    "a"
   ],
   "metadata": {
    "collapsed": false,
    "pycharm": {
     "name": "#%%\n"
    }
   }
  },
  {
   "cell_type": "code",
   "execution_count": 290,
   "outputs": [
    {
     "name": "stdout",
     "output_type": "stream",
     "text": [
      "181\n"
     ]
    },
    {
     "data": {
      "text/plain": "            Word  Frequency\n12       systems         58\n18        system         47\n23         tools         39\n56          tool         24\n458      toolkit          4\n668    ecosystem          3\n769   systematic          2\n1538    systemic          1\n1906       stool          1\n2093  ecosystems          1\n2557    toolkits          1",
      "text/html": "<div>\n<style scoped>\n    .dataframe tbody tr th:only-of-type {\n        vertical-align: middle;\n    }\n\n    .dataframe tbody tr th {\n        vertical-align: top;\n    }\n\n    .dataframe thead th {\n        text-align: right;\n    }\n</style>\n<table border=\"1\" class=\"dataframe\">\n  <thead>\n    <tr style=\"text-align: right;\">\n      <th></th>\n      <th>Word</th>\n      <th>Frequency</th>\n    </tr>\n  </thead>\n  <tbody>\n    <tr>\n      <th>12</th>\n      <td>systems</td>\n      <td>58</td>\n    </tr>\n    <tr>\n      <th>18</th>\n      <td>system</td>\n      <td>47</td>\n    </tr>\n    <tr>\n      <th>23</th>\n      <td>tools</td>\n      <td>39</td>\n    </tr>\n    <tr>\n      <th>56</th>\n      <td>tool</td>\n      <td>24</td>\n    </tr>\n    <tr>\n      <th>458</th>\n      <td>toolkit</td>\n      <td>4</td>\n    </tr>\n    <tr>\n      <th>668</th>\n      <td>ecosystem</td>\n      <td>3</td>\n    </tr>\n    <tr>\n      <th>769</th>\n      <td>systematic</td>\n      <td>2</td>\n    </tr>\n    <tr>\n      <th>1538</th>\n      <td>systemic</td>\n      <td>1</td>\n    </tr>\n    <tr>\n      <th>1906</th>\n      <td>stool</td>\n      <td>1</td>\n    </tr>\n    <tr>\n      <th>2093</th>\n      <td>ecosystems</td>\n      <td>1</td>\n    </tr>\n    <tr>\n      <th>2557</th>\n      <td>toolkits</td>\n      <td>1</td>\n    </tr>\n  </tbody>\n</table>\n</div>"
     },
     "execution_count": 290,
     "metadata": {},
     "output_type": "execute_result"
    }
   ],
   "source": [
    "a = keywords_2016_spilt[keywords_2016_spilt['Word'].str.contains('system|tool')]\n",
    "print(a['Frequency'].sum())\n",
    "a"
   ],
   "metadata": {
    "collapsed": false,
    "pycharm": {
     "name": "#%%\n"
    }
   }
  },
  {
   "cell_type": "code",
   "execution_count": 291,
   "outputs": [
    {
     "name": "stdout",
     "output_type": "stream",
     "text": [
      "60\n"
     ]
    },
    {
     "data": {
      "text/plain": "                Word  Frequency\n13           digital         58\n2097  digitalization          1\n3131     bio-digital          1",
      "text/html": "<div>\n<style scoped>\n    .dataframe tbody tr th:only-of-type {\n        vertical-align: middle;\n    }\n\n    .dataframe tbody tr th {\n        vertical-align: top;\n    }\n\n    .dataframe thead th {\n        text-align: right;\n    }\n</style>\n<table border=\"1\" class=\"dataframe\">\n  <thead>\n    <tr style=\"text-align: right;\">\n      <th></th>\n      <th>Word</th>\n      <th>Frequency</th>\n    </tr>\n  </thead>\n  <tbody>\n    <tr>\n      <th>13</th>\n      <td>digital</td>\n      <td>58</td>\n    </tr>\n    <tr>\n      <th>2097</th>\n      <td>digitalization</td>\n      <td>1</td>\n    </tr>\n    <tr>\n      <th>3131</th>\n      <td>bio-digital</td>\n      <td>1</td>\n    </tr>\n  </tbody>\n</table>\n</div>"
     },
     "execution_count": 291,
     "metadata": {},
     "output_type": "execute_result"
    }
   ],
   "source": [
    "a = keywords_2016_spilt[keywords_2016_spilt['Word'].str.contains('digital')]\n",
    "print(a['Frequency'].sum())\n",
    "a"
   ],
   "metadata": {
    "collapsed": false,
    "pycharm": {
     "name": "#%%\n"
    }
   }
  },
  {
   "cell_type": "code",
   "execution_count": 292,
   "outputs": [
    {
     "name": "stdout",
     "output_type": "stream",
     "text": [
      "31\n"
     ]
    },
    {
     "data": {
      "text/plain": "              Word  Frequency\n39      artificial         29\n1122  artificially          2",
      "text/html": "<div>\n<style scoped>\n    .dataframe tbody tr th:only-of-type {\n        vertical-align: middle;\n    }\n\n    .dataframe tbody tr th {\n        vertical-align: top;\n    }\n\n    .dataframe thead th {\n        text-align: right;\n    }\n</style>\n<table border=\"1\" class=\"dataframe\">\n  <thead>\n    <tr style=\"text-align: right;\">\n      <th></th>\n      <th>Word</th>\n      <th>Frequency</th>\n    </tr>\n  </thead>\n  <tbody>\n    <tr>\n      <th>39</th>\n      <td>artificial</td>\n      <td>29</td>\n    </tr>\n    <tr>\n      <th>1122</th>\n      <td>artificially</td>\n      <td>2</td>\n    </tr>\n  </tbody>\n</table>\n</div>"
     },
     "execution_count": 292,
     "metadata": {},
     "output_type": "execute_result"
    }
   ],
   "source": [
    "a = keywords_2016_spilt[keywords_2016_spilt['Word'].str.contains('artificial')]\n",
    "print(a['Frequency'].sum())\n",
    "a"
   ],
   "metadata": {
    "collapsed": false,
    "pycharm": {
     "name": "#%%\n"
    }
   }
  },
  {
   "cell_type": "code",
   "execution_count": 293,
   "outputs": [
    {
     "name": "stdout",
     "output_type": "stream",
     "text": [
      "228\n"
     ]
    },
    {
     "data": {
      "text/plain": "                  Word  Frequency\n14                  ai         49\n77            human-ai         18\n87            training         17\n204        sustainable          9\n263           fairness          7\n...                ...        ...\n3025  blockchain-based          1\n3038            kawaii          1\n3041       kawaii-ness          1\n3085           malaise          1\n3150      ai-supported          1\n\n[80 rows x 2 columns]",
      "text/html": "<div>\n<style scoped>\n    .dataframe tbody tr th:only-of-type {\n        vertical-align: middle;\n    }\n\n    .dataframe tbody tr th {\n        vertical-align: top;\n    }\n\n    .dataframe thead th {\n        text-align: right;\n    }\n</style>\n<table border=\"1\" class=\"dataframe\">\n  <thead>\n    <tr style=\"text-align: right;\">\n      <th></th>\n      <th>Word</th>\n      <th>Frequency</th>\n    </tr>\n  </thead>\n  <tbody>\n    <tr>\n      <th>14</th>\n      <td>ai</td>\n      <td>49</td>\n    </tr>\n    <tr>\n      <th>77</th>\n      <td>human-ai</td>\n      <td>18</td>\n    </tr>\n    <tr>\n      <th>87</th>\n      <td>training</td>\n      <td>17</td>\n    </tr>\n    <tr>\n      <th>204</th>\n      <td>sustainable</td>\n      <td>9</td>\n    </tr>\n    <tr>\n      <th>263</th>\n      <td>fairness</td>\n      <td>7</td>\n    </tr>\n    <tr>\n      <th>...</th>\n      <td>...</td>\n      <td>...</td>\n    </tr>\n    <tr>\n      <th>3025</th>\n      <td>blockchain-based</td>\n      <td>1</td>\n    </tr>\n    <tr>\n      <th>3038</th>\n      <td>kawaii</td>\n      <td>1</td>\n    </tr>\n    <tr>\n      <th>3041</th>\n      <td>kawaii-ness</td>\n      <td>1</td>\n    </tr>\n    <tr>\n      <th>3085</th>\n      <td>malaise</td>\n      <td>1</td>\n    </tr>\n    <tr>\n      <th>3150</th>\n      <td>ai-supported</td>\n      <td>1</td>\n    </tr>\n  </tbody>\n</table>\n<p>80 rows × 2 columns</p>\n</div>"
     },
     "execution_count": 293,
     "metadata": {},
     "output_type": "execute_result"
    }
   ],
   "source": [
    "a = keywords_2016_spilt[keywords_2016_spilt['Word'].str.contains('ai')]\n",
    "print(a['Frequency'].sum())\n",
    "a"
   ],
   "metadata": {
    "collapsed": false,
    "pycharm": {
     "name": "#%%\n"
    }
   }
  },
  {
   "cell_type": "code",
   "execution_count": 294,
   "outputs": [
    {
     "name": "stdout",
     "output_type": "stream",
     "text": [
      "88\n"
     ]
    },
    {
     "data": {
      "text/plain": "                    Word  Frequency\n16         communication         49\n75             community         19\n99           communities         16\n989      community-based          2\n1602      communications          1\n1859  community-building          1",
      "text/html": "<div>\n<style scoped>\n    .dataframe tbody tr th:only-of-type {\n        vertical-align: middle;\n    }\n\n    .dataframe tbody tr th {\n        vertical-align: top;\n    }\n\n    .dataframe thead th {\n        text-align: right;\n    }\n</style>\n<table border=\"1\" class=\"dataframe\">\n  <thead>\n    <tr style=\"text-align: right;\">\n      <th></th>\n      <th>Word</th>\n      <th>Frequency</th>\n    </tr>\n  </thead>\n  <tbody>\n    <tr>\n      <th>16</th>\n      <td>communication</td>\n      <td>49</td>\n    </tr>\n    <tr>\n      <th>75</th>\n      <td>community</td>\n      <td>19</td>\n    </tr>\n    <tr>\n      <th>99</th>\n      <td>communities</td>\n      <td>16</td>\n    </tr>\n    <tr>\n      <th>989</th>\n      <td>community-based</td>\n      <td>2</td>\n    </tr>\n    <tr>\n      <th>1602</th>\n      <td>communications</td>\n      <td>1</td>\n    </tr>\n    <tr>\n      <th>1859</th>\n      <td>community-building</td>\n      <td>1</td>\n    </tr>\n  </tbody>\n</table>\n</div>"
     },
     "execution_count": 294,
     "metadata": {},
     "output_type": "execute_result"
    }
   ],
   "source": [
    "a = keywords_2016_spilt[keywords_2016_spilt['Word'].str.contains('communi')]\n",
    "print(a['Frequency'].sum())\n",
    "a"
   ],
   "metadata": {
    "collapsed": false,
    "pycharm": {
     "name": "#%%\n"
    }
   }
  },
  {
   "cell_type": "code",
   "execution_count": 295,
   "outputs": [
    {
     "name": "stdout",
     "output_type": "stream",
     "text": [
      "48\n"
     ]
    },
    {
     "data": {
      "text/plain": "      Word  Frequency\n17  online         48",
      "text/html": "<div>\n<style scoped>\n    .dataframe tbody tr th:only-of-type {\n        vertical-align: middle;\n    }\n\n    .dataframe tbody tr th {\n        vertical-align: top;\n    }\n\n    .dataframe thead th {\n        text-align: right;\n    }\n</style>\n<table border=\"1\" class=\"dataframe\">\n  <thead>\n    <tr style=\"text-align: right;\">\n      <th></th>\n      <th>Word</th>\n      <th>Frequency</th>\n    </tr>\n  </thead>\n  <tbody>\n    <tr>\n      <th>17</th>\n      <td>online</td>\n      <td>48</td>\n    </tr>\n  </tbody>\n</table>\n</div>"
     },
     "execution_count": 295,
     "metadata": {},
     "output_type": "execute_result"
    }
   ],
   "source": [
    "a = keywords_2016_spilt[keywords_2016_spilt['Word'].str.contains('online')]\n",
    "print(a['Frequency'].sum())\n",
    "a"
   ],
   "metadata": {
    "collapsed": false,
    "pycharm": {
     "name": "#%%\n"
    }
   }
  },
  {
   "cell_type": "code",
   "execution_count": 296,
   "outputs": [
    {
     "name": "stdout",
     "output_type": "stream",
     "text": [
      "58\n"
     ]
    },
    {
     "data": {
      "text/plain": "                Word  Frequency\n21     visualization         41\n148   visualizations         11\n504    visualisation          4\n1271     visualizing          1\n2071  visualisations          1",
      "text/html": "<div>\n<style scoped>\n    .dataframe tbody tr th:only-of-type {\n        vertical-align: middle;\n    }\n\n    .dataframe tbody tr th {\n        vertical-align: top;\n    }\n\n    .dataframe thead th {\n        text-align: right;\n    }\n</style>\n<table border=\"1\" class=\"dataframe\">\n  <thead>\n    <tr style=\"text-align: right;\">\n      <th></th>\n      <th>Word</th>\n      <th>Frequency</th>\n    </tr>\n  </thead>\n  <tbody>\n    <tr>\n      <th>21</th>\n      <td>visualization</td>\n      <td>41</td>\n    </tr>\n    <tr>\n      <th>148</th>\n      <td>visualizations</td>\n      <td>11</td>\n    </tr>\n    <tr>\n      <th>504</th>\n      <td>visualisation</td>\n      <td>4</td>\n    </tr>\n    <tr>\n      <th>1271</th>\n      <td>visualizing</td>\n      <td>1</td>\n    </tr>\n    <tr>\n      <th>2071</th>\n      <td>visualisations</td>\n      <td>1</td>\n    </tr>\n  </tbody>\n</table>\n</div>"
     },
     "execution_count": 296,
     "metadata": {},
     "output_type": "execute_result"
    }
   ],
   "source": [
    "a = keywords_2016_spilt[keywords_2016_spilt['Word'].str.contains('visuali')]\n",
    "print(a['Frequency'].sum())\n",
    "a"
   ],
   "metadata": {
    "collapsed": false,
    "pycharm": {
     "name": "#%%\n"
    }
   }
  },
  {
   "cell_type": "code",
   "execution_count": 297,
   "outputs": [
    {
     "name": "stdout",
     "output_type": "stream",
     "text": [
      "61\n"
     ]
    },
    {
     "data": {
      "text/plain": "                    Word  Frequency\n25               privacy         37\n142             security         12\n379        cybersecurity          5\n635   privacy-preserving          3\n1287          insecurity          1\n1450  privacy-protection          1\n1802  security-enhancing          1\n2871              secure          1",
      "text/html": "<div>\n<style scoped>\n    .dataframe tbody tr th:only-of-type {\n        vertical-align: middle;\n    }\n\n    .dataframe tbody tr th {\n        vertical-align: top;\n    }\n\n    .dataframe thead th {\n        text-align: right;\n    }\n</style>\n<table border=\"1\" class=\"dataframe\">\n  <thead>\n    <tr style=\"text-align: right;\">\n      <th></th>\n      <th>Word</th>\n      <th>Frequency</th>\n    </tr>\n  </thead>\n  <tbody>\n    <tr>\n      <th>25</th>\n      <td>privacy</td>\n      <td>37</td>\n    </tr>\n    <tr>\n      <th>142</th>\n      <td>security</td>\n      <td>12</td>\n    </tr>\n    <tr>\n      <th>379</th>\n      <td>cybersecurity</td>\n      <td>5</td>\n    </tr>\n    <tr>\n      <th>635</th>\n      <td>privacy-preserving</td>\n      <td>3</td>\n    </tr>\n    <tr>\n      <th>1287</th>\n      <td>insecurity</td>\n      <td>1</td>\n    </tr>\n    <tr>\n      <th>1450</th>\n      <td>privacy-protection</td>\n      <td>1</td>\n    </tr>\n    <tr>\n      <th>1802</th>\n      <td>security-enhancing</td>\n      <td>1</td>\n    </tr>\n    <tr>\n      <th>2871</th>\n      <td>secure</td>\n      <td>1</td>\n    </tr>\n  </tbody>\n</table>\n</div>"
     },
     "execution_count": 297,
     "metadata": {},
     "output_type": "execute_result"
    }
   ],
   "source": [
    "a = keywords_2016_spilt[keywords_2016_spilt['Word'].str.contains('privacy|secur')]\n",
    "print(a['Frequency'].sum())\n",
    "a"
   ],
   "metadata": {
    "collapsed": false,
    "pycharm": {
     "name": "#%%\n"
    }
   }
  },
  {
   "cell_type": "code",
   "execution_count": 298,
   "outputs": [
    {
     "name": "stdout",
     "output_type": "stream",
     "text": [
      "45\n"
     ]
    },
    {
     "data": {
      "text/plain": "                Word  Frequency\n28            health         36\n214       healthcare          8\n1838  health-related          1",
      "text/html": "<div>\n<style scoped>\n    .dataframe tbody tr th:only-of-type {\n        vertical-align: middle;\n    }\n\n    .dataframe tbody tr th {\n        vertical-align: top;\n    }\n\n    .dataframe thead th {\n        text-align: right;\n    }\n</style>\n<table border=\"1\" class=\"dataframe\">\n  <thead>\n    <tr style=\"text-align: right;\">\n      <th></th>\n      <th>Word</th>\n      <th>Frequency</th>\n    </tr>\n  </thead>\n  <tbody>\n    <tr>\n      <th>28</th>\n      <td>health</td>\n      <td>36</td>\n    </tr>\n    <tr>\n      <th>214</th>\n      <td>healthcare</td>\n      <td>8</td>\n    </tr>\n    <tr>\n      <th>1838</th>\n      <td>health-related</td>\n      <td>1</td>\n    </tr>\n  </tbody>\n</table>\n</div>"
     },
     "execution_count": 298,
     "metadata": {},
     "output_type": "execute_result"
    }
   ],
   "source": [
    "a = keywords_2016_spilt[keywords_2016_spilt['Word'].str.contains('health')]\n",
    "print(a['Frequency'].sum())\n",
    "a"
   ],
   "metadata": {
    "collapsed": false,
    "pycharm": {
     "name": "#%%\n"
    }
   }
  },
  {
   "cell_type": "code",
   "execution_count": 299,
   "outputs": [
    {
     "name": "stdout",
     "output_type": "stream",
     "text": [
      "41\n"
     ]
    },
    {
     "data": {
      "text/plain": "               Word  Frequency\n52    accessibility         26\n241          access          8\n520      accessible          4\n856    inaccessible          2\n2112      accessing          1",
      "text/html": "<div>\n<style scoped>\n    .dataframe tbody tr th:only-of-type {\n        vertical-align: middle;\n    }\n\n    .dataframe tbody tr th {\n        vertical-align: top;\n    }\n\n    .dataframe thead th {\n        text-align: right;\n    }\n</style>\n<table border=\"1\" class=\"dataframe\">\n  <thead>\n    <tr style=\"text-align: right;\">\n      <th></th>\n      <th>Word</th>\n      <th>Frequency</th>\n    </tr>\n  </thead>\n  <tbody>\n    <tr>\n      <th>52</th>\n      <td>accessibility</td>\n      <td>26</td>\n    </tr>\n    <tr>\n      <th>241</th>\n      <td>access</td>\n      <td>8</td>\n    </tr>\n    <tr>\n      <th>520</th>\n      <td>accessible</td>\n      <td>4</td>\n    </tr>\n    <tr>\n      <th>856</th>\n      <td>inaccessible</td>\n      <td>2</td>\n    </tr>\n    <tr>\n      <th>2112</th>\n      <td>accessing</td>\n      <td>1</td>\n    </tr>\n  </tbody>\n</table>\n</div>"
     },
     "execution_count": 299,
     "metadata": {},
     "output_type": "execute_result"
    }
   ],
   "source": [
    "a = keywords_2016_spilt[keywords_2016_spilt['Word'].str.contains('access')]\n",
    "print(a['Frequency'].sum())\n",
    "a"
   ],
   "metadata": {
    "collapsed": false,
    "pycharm": {
     "name": "#%%\n"
    }
   }
  },
  {
   "cell_type": "code",
   "execution_count": 300,
   "outputs": [
    {
     "name": "stdout",
     "output_type": "stream",
     "text": [
      "11\n"
     ]
    },
    {
     "data": {
      "text/plain": "           Word  Frequency\n655     imaging          3\n721   messaging          3\n885       aging          2\n1032   engaging          2\n2275   damaging          1",
      "text/html": "<div>\n<style scoped>\n    .dataframe tbody tr th:only-of-type {\n        vertical-align: middle;\n    }\n\n    .dataframe tbody tr th {\n        vertical-align: top;\n    }\n\n    .dataframe thead th {\n        text-align: right;\n    }\n</style>\n<table border=\"1\" class=\"dataframe\">\n  <thead>\n    <tr style=\"text-align: right;\">\n      <th></th>\n      <th>Word</th>\n      <th>Frequency</th>\n    </tr>\n  </thead>\n  <tbody>\n    <tr>\n      <th>655</th>\n      <td>imaging</td>\n      <td>3</td>\n    </tr>\n    <tr>\n      <th>721</th>\n      <td>messaging</td>\n      <td>3</td>\n    </tr>\n    <tr>\n      <th>885</th>\n      <td>aging</td>\n      <td>2</td>\n    </tr>\n    <tr>\n      <th>1032</th>\n      <td>engaging</td>\n      <td>2</td>\n    </tr>\n    <tr>\n      <th>2275</th>\n      <td>damaging</td>\n      <td>1</td>\n    </tr>\n  </tbody>\n</table>\n</div>"
     },
     "execution_count": 300,
     "metadata": {},
     "output_type": "execute_result"
    }
   ],
   "source": [
    "a = keywords_2016_spilt[keywords_2016_spilt['Word'].str.contains('aging')]\n",
    "print(a['Frequency'].sum())\n",
    "a"
   ],
   "metadata": {
    "collapsed": false,
    "pycharm": {
     "name": "#%%\n"
    }
   }
  },
  {
   "cell_type": "code",
   "execution_count": 301,
   "outputs": [
    {
     "name": "stdout",
     "output_type": "stream",
     "text": [
      "25\n"
     ]
    },
    {
     "data": {
      "text/plain": "                 Word  Frequency\n103           devices         15\n383            device          5\n700      cross-device          3\n1958     multi-device          1\n2104  device-relative          1",
      "text/html": "<div>\n<style scoped>\n    .dataframe tbody tr th:only-of-type {\n        vertical-align: middle;\n    }\n\n    .dataframe tbody tr th {\n        vertical-align: top;\n    }\n\n    .dataframe thead th {\n        text-align: right;\n    }\n</style>\n<table border=\"1\" class=\"dataframe\">\n  <thead>\n    <tr style=\"text-align: right;\">\n      <th></th>\n      <th>Word</th>\n      <th>Frequency</th>\n    </tr>\n  </thead>\n  <tbody>\n    <tr>\n      <th>103</th>\n      <td>devices</td>\n      <td>15</td>\n    </tr>\n    <tr>\n      <th>383</th>\n      <td>device</td>\n      <td>5</td>\n    </tr>\n    <tr>\n      <th>700</th>\n      <td>cross-device</td>\n      <td>3</td>\n    </tr>\n    <tr>\n      <th>1958</th>\n      <td>multi-device</td>\n      <td>1</td>\n    </tr>\n    <tr>\n      <th>2104</th>\n      <td>device-relative</td>\n      <td>1</td>\n    </tr>\n  </tbody>\n</table>\n</div>"
     },
     "execution_count": 301,
     "metadata": {},
     "output_type": "execute_result"
    }
   ],
   "source": [
    "a = keywords_2016_spilt[keywords_2016_spilt['Word'].str.contains('device')]\n",
    "print(a['Frequency'].sum())\n",
    "a"
   ],
   "metadata": {
    "collapsed": false,
    "pycharm": {
     "name": "#%%\n"
    }
   }
  },
  {
   "cell_type": "code",
   "execution_count": 302,
   "outputs": [
    {
     "name": "stdout",
     "output_type": "stream",
     "text": [
      "49\n"
     ]
    },
    {
     "data": {
      "text/plain": "                   Word  Frequency\n106               games         15\n140                game         12\n331              player          6\n918         multiplayer          2\n1105               play          2\n1411            players          1\n1550           player's          1\n1626         play-dough          1\n1632             gamers          1\n1827          role-play          1\n1919  record-and-replay          1\n2204         non-gamers          1\n2331          exergames          1\n2477          interplay          1\n2867       role-playing          1\n2900       play-to-earn          1\n2901       crypto-games          1",
      "text/html": "<div>\n<style scoped>\n    .dataframe tbody tr th:only-of-type {\n        vertical-align: middle;\n    }\n\n    .dataframe tbody tr th {\n        vertical-align: top;\n    }\n\n    .dataframe thead th {\n        text-align: right;\n    }\n</style>\n<table border=\"1\" class=\"dataframe\">\n  <thead>\n    <tr style=\"text-align: right;\">\n      <th></th>\n      <th>Word</th>\n      <th>Frequency</th>\n    </tr>\n  </thead>\n  <tbody>\n    <tr>\n      <th>106</th>\n      <td>games</td>\n      <td>15</td>\n    </tr>\n    <tr>\n      <th>140</th>\n      <td>game</td>\n      <td>12</td>\n    </tr>\n    <tr>\n      <th>331</th>\n      <td>player</td>\n      <td>6</td>\n    </tr>\n    <tr>\n      <th>918</th>\n      <td>multiplayer</td>\n      <td>2</td>\n    </tr>\n    <tr>\n      <th>1105</th>\n      <td>play</td>\n      <td>2</td>\n    </tr>\n    <tr>\n      <th>1411</th>\n      <td>players</td>\n      <td>1</td>\n    </tr>\n    <tr>\n      <th>1550</th>\n      <td>player's</td>\n      <td>1</td>\n    </tr>\n    <tr>\n      <th>1626</th>\n      <td>play-dough</td>\n      <td>1</td>\n    </tr>\n    <tr>\n      <th>1632</th>\n      <td>gamers</td>\n      <td>1</td>\n    </tr>\n    <tr>\n      <th>1827</th>\n      <td>role-play</td>\n      <td>1</td>\n    </tr>\n    <tr>\n      <th>1919</th>\n      <td>record-and-replay</td>\n      <td>1</td>\n    </tr>\n    <tr>\n      <th>2204</th>\n      <td>non-gamers</td>\n      <td>1</td>\n    </tr>\n    <tr>\n      <th>2331</th>\n      <td>exergames</td>\n      <td>1</td>\n    </tr>\n    <tr>\n      <th>2477</th>\n      <td>interplay</td>\n      <td>1</td>\n    </tr>\n    <tr>\n      <th>2867</th>\n      <td>role-playing</td>\n      <td>1</td>\n    </tr>\n    <tr>\n      <th>2900</th>\n      <td>play-to-earn</td>\n      <td>1</td>\n    </tr>\n    <tr>\n      <th>2901</th>\n      <td>crypto-games</td>\n      <td>1</td>\n    </tr>\n  </tbody>\n</table>\n</div>"
     },
     "execution_count": 302,
     "metadata": {},
     "output_type": "execute_result"
    }
   ],
   "source": [
    "a = keywords_2016_spilt[keywords_2016_spilt['Word'].str.contains('game|play') & ~keywords_2016_spilt['Word'].str.contains('dis')]\n",
    "print(a['Frequency'].sum())\n",
    "a"
   ],
   "metadata": {
    "collapsed": false,
    "pycharm": {
     "name": "#%%\n"
    }
   }
  },
  {
   "cell_type": "code",
   "execution_count": 303,
   "outputs": [
    {
     "name": "stdout",
     "output_type": "stream",
     "text": [
      "104\n"
     ]
    },
    {
     "data": {
      "text/plain": "                           Word  Frequency\n9                      learning         69\n120                   education         14\n277                 educational          7\n732                   educators          3\n965               deep-learning          2\n1343                   families          1\n1553                 unfamiliar          1\n1683  supervised-learning-based          1\n2077            familiarization          1\n2118                     family          1\n2524           machine-learning          1\n2609            machine-learned          1\n2904                 educators'          1\n3073           novel/unfamiliar          1",
      "text/html": "<div>\n<style scoped>\n    .dataframe tbody tr th:only-of-type {\n        vertical-align: middle;\n    }\n\n    .dataframe tbody tr th {\n        vertical-align: top;\n    }\n\n    .dataframe thead th {\n        text-align: right;\n    }\n</style>\n<table border=\"1\" class=\"dataframe\">\n  <thead>\n    <tr style=\"text-align: right;\">\n      <th></th>\n      <th>Word</th>\n      <th>Frequency</th>\n    </tr>\n  </thead>\n  <tbody>\n    <tr>\n      <th>9</th>\n      <td>learning</td>\n      <td>69</td>\n    </tr>\n    <tr>\n      <th>120</th>\n      <td>education</td>\n      <td>14</td>\n    </tr>\n    <tr>\n      <th>277</th>\n      <td>educational</td>\n      <td>7</td>\n    </tr>\n    <tr>\n      <th>732</th>\n      <td>educators</td>\n      <td>3</td>\n    </tr>\n    <tr>\n      <th>965</th>\n      <td>deep-learning</td>\n      <td>2</td>\n    </tr>\n    <tr>\n      <th>1343</th>\n      <td>families</td>\n      <td>1</td>\n    </tr>\n    <tr>\n      <th>1553</th>\n      <td>unfamiliar</td>\n      <td>1</td>\n    </tr>\n    <tr>\n      <th>1683</th>\n      <td>supervised-learning-based</td>\n      <td>1</td>\n    </tr>\n    <tr>\n      <th>2077</th>\n      <td>familiarization</td>\n      <td>1</td>\n    </tr>\n    <tr>\n      <th>2118</th>\n      <td>family</td>\n      <td>1</td>\n    </tr>\n    <tr>\n      <th>2524</th>\n      <td>machine-learning</td>\n      <td>1</td>\n    </tr>\n    <tr>\n      <th>2609</th>\n      <td>machine-learned</td>\n      <td>1</td>\n    </tr>\n    <tr>\n      <th>2904</th>\n      <td>educators'</td>\n      <td>1</td>\n    </tr>\n    <tr>\n      <th>3073</th>\n      <td>novel/unfamiliar</td>\n      <td>1</td>\n    </tr>\n  </tbody>\n</table>\n</div>"
     },
     "execution_count": 303,
     "metadata": {},
     "output_type": "execute_result"
    }
   ],
   "source": [
    "a = keywords_2016_spilt[keywords_2016_spilt['Word'].str.contains('learn|educa|famil')]\n",
    "print(a['Frequency'].sum())\n",
    "a"
   ],
   "metadata": {
    "collapsed": false,
    "pycharm": {
     "name": "#%%\n"
    }
   }
  },
  {
   "cell_type": "code",
   "execution_count": 303,
   "outputs": [],
   "source": [],
   "metadata": {
    "collapsed": false,
    "pycharm": {
     "name": "#%%\n"
    }
   }
  }
 ],
 "metadata": {
  "kernelspec": {
   "display_name": "Python 3",
   "language": "python",
   "name": "python3"
  },
  "language_info": {
   "codemirror_mode": {
    "name": "ipython",
    "version": 2
   },
   "file_extension": ".py",
   "mimetype": "text/x-python",
   "name": "python",
   "nbconvert_exporter": "python",
   "pygments_lexer": "ipython2",
   "version": "2.7.6"
  }
 },
 "nbformat": 4,
 "nbformat_minor": 0
}