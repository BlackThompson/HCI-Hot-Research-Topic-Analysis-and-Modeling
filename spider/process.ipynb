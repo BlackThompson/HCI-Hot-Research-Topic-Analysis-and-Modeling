{
 "cells": [
  {
   "cell_type": "code",
   "execution_count": 4,
   "metadata": {
    "collapsed": true,
    "pycharm": {
     "name": "#%%\n"
    }
   },
   "outputs": [],
   "source": [
    "import pandas as pd\n",
    "\n",
    "years = list(range(2016, 2024))\n",
    "\n",
    "for year in years:\n",
    "    path = f'./output/CHI/CHI_{year}.csv'\n",
    "\n",
    "    df = pd.read_csv(path)\n",
    "\n",
    "    # 保留符合前缀的链接\n",
    "    prefix = 'https://dl.acm.org/doi/abs/10.1145/'\n",
    "    df = df[df['web'].str.startswith(prefix)]\n",
    "\n",
    "    output_path = f'./output/CHI_process/CHI_process_{year}.csv'\n",
    "\n",
    "    df.to_csv(output_path, index=False, encoding='utf-8-sig')\n"
   ]
  }
 ],
 "metadata": {
  "kernelspec": {
   "display_name": "Python 3",
   "language": "python",
   "name": "python3"
  },
  "language_info": {
   "codemirror_mode": {
    "name": "ipython",
    "version": 2
   },
   "file_extension": ".py",
   "mimetype": "text/x-python",
   "name": "python",
   "nbconvert_exporter": "python",
   "pygments_lexer": "ipython2",
   "version": "2.7.6"
  }
 },
 "nbformat": 4,
 "nbformat_minor": 0
}