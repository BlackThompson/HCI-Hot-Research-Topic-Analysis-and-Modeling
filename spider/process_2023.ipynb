{
 "cells": [
  {
   "cell_type": "code",
   "execution_count": 3,
   "metadata": {
    "collapsed": true
   },
   "outputs": [],
   "source": [
    "import pandas as pd\n",
    "from bs4 import BeautifulSoup\n",
    "import os\n",
    "import requests\n",
    "import random\n",
    "from ip_pool import ip_pool\n",
    "import time\n",
    "import multiprocessing\n",
    "\n",
    "\n",
    "def get_abstract(url):\n",
    "    proxies = get_ip(url=url)\n",
    "    # 发送 GET 请求并获取网页内容\n",
    "    response = requests.get(url, proxies=proxies)\n",
    "    # 使用 BeautifulSoup 解析网页内容\n",
    "    soup = BeautifulSoup(response.text, 'html.parser')\n",
    "    # 找到具有 class 为 \"black\" 的所有标签\n",
    "    tag = soup.find(class_=\"abstractSection abstractInFull\")\n",
    "    try:\n",
    "        content = tag.get_text()\n",
    "    except:\n",
    "        content = 'Delete'\n",
    "    print(content)\n",
    "    print()\n",
    "    return content\n",
    "\n",
    "\n",
    "def get_ip(url):\n",
    "    while True:\n",
    "        ip = random.choice(ip_pool)\n",
    "        proxies = {\n",
    "            'http': 'http://' + ip,\n",
    "            'https': 'https://' + ip\n",
    "        }\n",
    "        page = requests.get(url=url, proxies=proxies, timeout=(3, 3))\n",
    "        if page.status_code == 200:\n",
    "            print(ip)\n",
    "            return proxies\n",
    "        else:\n",
    "            print('无效IP')\n",
    "\n",
    "\n",
    "def loop_for_get_abstract(url):\n",
    "    while True:\n",
    "        try:\n",
    "            file.loc[i, 'abstract'] = get_abstract(url)\n",
    "            break  # 如果执行成功，退出循环\n",
    "        except Exception as e:\n",
    "            print('Error:', e)\n",
    "\n",
    "\n",
    "file_path = r'./output/CHI_with_abstract/CHI_process_2023.csv'\n",
    "file = pd.read_csv(file_path)\n",
    "\n",
    "for i in range(len(file)):\n",
    "\n",
    "    # 从上次之后开始写\n",
    "    if not pd.isna(file.loc[i, 'abstract']):\n",
    "        continue\n",
    "\n",
    "    if i % 20 == 0:\n",
    "        file.to_csv(file_path, index=False, encoding='utf-8-sig')\n",
    "\n",
    "    print(f'>>>>>>>>>>>>>>>>>>    Paper {i}     <<<<<<<<<<<<<<<<<<<<')\n",
    "    print()\n",
    "    url = file.loc[i, 'web']\n",
    "\n",
    "    # 创建子进程，并传入loop_for_get_abstract函数\n",
    "    process = multiprocessing.Process(target=loop_for_get_abstract(url=url))\n",
    "    # 启动子进程\n",
    "    process.start()\n",
    "    # 等待子进程结束，最多等待30秒\n",
    "    process.join(timeout=30)\n",
    "\n",
    "    # 如果子进程仍在运行，则终止子进程\n",
    "    if process.is_alive():\n",
    "        process.terminate()\n",
    "        # 等待子进程结束\n",
    "        process.join()\n",
    "\n",
    "    # 主进程继续执行其他代码\n",
    "\n",
    "file.to_csv(file_path, index=False, encoding='utf-8-sig')"
   ]
  },
  {
   "cell_type": "code",
   "execution_count": 4,
   "outputs": [],
   "source": [
    "# 一直error"
   ],
   "metadata": {
    "collapsed": false,
    "pycharm": {
     "name": "#%%\n"
    }
   }
  }
 ],
 "metadata": {
  "kernelspec": {
   "display_name": "Python 3",
   "language": "python",
   "name": "python3"
  },
  "language_info": {
   "codemirror_mode": {
    "name": "ipython",
    "version": 2
   },
   "file_extension": ".py",
   "mimetype": "text/x-python",
   "name": "python",
   "nbconvert_exporter": "python",
   "pygments_lexer": "ipython2",
   "version": "2.7.6"
  }
 },
 "nbformat": 4,
 "nbformat_minor": 0
}