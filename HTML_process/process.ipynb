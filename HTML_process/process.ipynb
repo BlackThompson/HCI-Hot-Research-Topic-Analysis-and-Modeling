{
 "cells": [
  {
   "cell_type": "code",
   "execution_count": 13,
   "outputs": [],
   "source": [
    "def combine_pages(pages):\n",
    "    combined_html = \"<html><head><style>\"\n",
    "    combined_html += \"body { margin: 0; padding: 0; }\"\n",
    "    combined_html += \".page-container { position: relative; height: 100vh; display: flex; flex-direction: column; justify-content: center; align-items: center; }\"\n",
    "    combined_html += \".page { width: 100vw; height: 100vh; overflow: hidden; display: none; }\"\n",
    "    combined_html += \".visible { display: block; }\"\n",
    "    combined_html += \".navigation { margin-top: 5px; }\"\n",
    "    combined_html += \"</style></head><body>\"\n",
    "\n",
    "    for i, page_content in enumerate(pages):\n",
    "        combined_html += f'<div class=\"page {\"visible\" if i==0 else \"\"}\">{page_content}</div>'\n",
    "\n",
    "    combined_html += \"\"\"\n",
    "        <div class=\"page-container\">\n",
    "            <div class=\"navigation\">\n",
    "                <button onclick=\"showPage(currentPage - 1)\" disabled=\"true\">&#8249; Prev</button>\n",
    "                <span id=\"page-num\">Page 1 / \"\"\" + str(len(pages)) + \"\"\"</span>\n",
    "                <button onclick=\"showPage(currentPage + 1)\">Next &#8250;</button>\n",
    "            </div>\n",
    "        </div>\n",
    "\n",
    "        <script>\n",
    "        let currentPage = 0;\n",
    "        const pages = document.querySelectorAll('.page');\n",
    "        pages[currentPage].classList.add('visible');\n",
    "\n",
    "        function showPage(page) {\n",
    "            pages[currentPage].classList.remove('visible');\n",
    "            currentPage = page;\n",
    "            pages[currentPage].classList.add('visible');\n",
    "\n",
    "            // Enable/disable navigation buttons based on current page\n",
    "            const prevButton = document.querySelector('button[onclick=\"showPage(currentPage - 1)\"]');\n",
    "            const nextButton = document.querySelector('button[onclick=\"showPage(currentPage + 1)\"]');\n",
    "            prevButton.disabled = (currentPage === 0);\n",
    "            nextButton.disabled = (currentPage === pages.length - 1);\n",
    "\n",
    "            // Update the page number display\n",
    "            const pageNumber = document.getElementById('page-num');\n",
    "            pageNumber.textContent = `Page ${currentPage + 1} / ${pages.length}`;\n",
    "        }\n",
    "\n",
    "        document.addEventListener('keydown', (event) => {\n",
    "            if (event.key === 'ArrowLeft' && currentPage > 0) {\n",
    "                showPage(currentPage - 1);\n",
    "            } else if (event.key === 'ArrowRight' && currentPage < pages.length - 1) {\n",
    "                showPage(currentPage + 1);\n",
    "            }\n",
    "        });\n",
    "        </script>\n",
    "        </body></html>\n",
    "    \"\"\"\n",
    "\n",
    "    return combined_html\n",
    "\n"
   ],
   "metadata": {
    "collapsed": false,
    "pycharm": {
     "name": "#%%\n"
    }
   }
  },
  {
   "cell_type": "code",
   "execution_count": 14,
   "outputs": [],
   "source": [
    "if __name__ == \"__main__\":\n",
    "    # 读取所有HTML页面的内容\n",
    "    pages_content = []\n",
    "    for i in range(2016, 2024):\n",
    "        with open(f'./input/{i}_pie_HALLOWEEN.html', 'r', encoding='utf-8') as file:\n",
    "            page_content = file.read()\n",
    "            pages_content.append(page_content)\n",
    "\n",
    "    # 合并HTML页面内容\n",
    "    combined_html = combine_pages(pages_content)\n",
    "\n",
    "    # 将合并后的内容写入新的HTML文件\n",
    "    with open('combined_pages.html', 'w', encoding='utf-8') as file:\n",
    "        file.write(combined_html)"
   ],
   "metadata": {
    "collapsed": false,
    "pycharm": {
     "name": "#%%\n"
    }
   }
  }
 ],
 "metadata": {
  "kernelspec": {
   "display_name": "Python 3",
   "language": "python",
   "name": "python3"
  },
  "language_info": {
   "codemirror_mode": {
    "name": "ipython",
    "version": 2
   },
   "file_extension": ".py",
   "mimetype": "text/x-python",
   "name": "python",
   "nbconvert_exporter": "python",
   "pygments_lexer": "ipython2",
   "version": "2.7.6"
  }
 },
 "nbformat": 4,
 "nbformat_minor": 0
}